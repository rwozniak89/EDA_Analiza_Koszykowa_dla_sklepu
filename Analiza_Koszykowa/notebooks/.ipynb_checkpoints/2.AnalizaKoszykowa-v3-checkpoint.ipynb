{
 "cells": [
  {
   "cell_type": "markdown",
   "metadata": {},
   "source": [
    "# Analiza koszykowa i rekomendacja produktów\n",
    "Celem notebooka jest zaprezentowanie jak analiza koszykowa umożliwia rekomendację produktów w celu wsparcia sprzedaży."
   ]
  },
  {
   "cell_type": "code",
   "execution_count": null,
   "metadata": {},
   "outputs": [],
   "source": [
    "# importujemy potrzebne biblioteki\n",
    "from os.path import pardir, join\n",
    "\n",
    "import pandas as pd\n",
    "import numpy as np \n",
    "import seaborn as sns\n",
    "import matplotlib.pyplot as plt\n",
    "from mlxtend.frequent_patterns import apriori, association_rules\n",
    "from IPython.display import display\n",
    "\n",
    "sns.set_palette(\"Blues\")\n",
    "apriori_dict = {\n",
    "    'antecedents': 'poprzednicy',\n",
    "    'consequents': 'następnicy',\n",
    "    'antecedent support': 'wsparcie poprzedników',\n",
    "    'consequent support': 'wsparcie następników',\n",
    "    'support': 'wsparcie',\n",
    "    'confidence': 'pewność',\n",
    "    'lift': 'przyrost',\n",
    "    'leverage': 'dźwignia',\n",
    "    'conviction': 'przekonanie'\n",
    "}"
   ]
  },
  {
   "cell_type": "markdown",
   "metadata": {},
   "source": [
    "-------\n",
    "### Instrukcja uzupełniania\n",
    "Miejsca gdzie należy napisać/uzupełnić kod znajdują się bezpośrednio **pod** komentarzami z tagiem `todo`.\n",
    "\n",
    "Przykład:\n",
    "```python\n",
    "a = some_function()\n",
    "# todo: stwórz nową zmienną z napisem 'zmienna'\n",
    "b = ...\n",
    "# todo: wypisz zmienną b\n",
    "```\n",
    "\n",
    "Rozwiązanie:\n",
    "```python\n",
    "a = some_function()\n",
    "# todo: stwórz nową zmienną z napisem 'zmienna'\n",
    "b = 'zmienna'\n",
    "# todo: wypisz zmienną b\n",
    "print(b)\n",
    "```\n",
    "\n",
    "Jeśli wymagane jest odpowiednie nazewnictwo zmiennych będą one zadeklarowane z przypisanym operatorem ```...``` (tak jak jest to pokazane powyżej).\n",
    "\n",
    "Jeśli nie uda Ci się wykonać zadań opisanych w `todo`, na samym dole notebooka znajduje się ściąga pozwalająca uzupełnić brakujące linijki i kontynuować wasztat. Korzystamy z nich dopiero w ostateczności :)"
   ]
  },
  {
   "cell_type": "markdown",
   "metadata": {},
   "source": [
    "---------\n",
    "### Cheat Sheet:\n",
    "1. Ładowanie danych do  tabeli DataFrame z pliku *.csv*:\n",
    "```python\n",
    "df = pd.read_csv('ścieżka_do_pliku.csv')\n",
    "```\n",
    "2. Wyświetl `n` pierwszych wierszy tabeli DataFrame (`n` domyślnie równe 5):\n",
    "    - jeśli to ostatnia komenda w komórce:\n",
    "```python\n",
    "df.head(n)\n",
    "```\n",
    "    - jeśli tak nie jest:\n",
    "```python\n",
    "display(df.head(n))\n",
    "```\n",
    "3. Obrót tabeli DataFrame (tzw. *pivot*) sumujący wartości z ```kolumna_do_zliczenia``` we wszystkich kombinacjach ```kolumna_x``` z ```kolumna_y```.\n",
    "```python\n",
    "df = pd.pivot_table(df, values='kolumna_do_zliczania', index='kolumna_x', columns='kolumna_y', aggfunc=np.sum)\n",
    "```\n",
    "4. Podmiana wszystkich wartości ```NaN``` (*Not a Number*) na wybraną wartość:\n",
    "```python \n",
    "df = df.fillna(wartość_do_podmiany)\n",
    "```\n",
    "5. Sortowanie malejące wierszy w tabeli DataFrame według wartości w kolumnie/kolumnach:\n",
    " - dla jednej kolumny\n",
    "```python\n",
    "df = df.sort_values('kolumna', ascending=False)\n",
    "```\n",
    " - dla wielu kolumn\n",
    "```python\n",
    "df = df.sort_values(['kolumna_1', 'kolumna_2'], ascending=False)\n",
    "```\n",
    "6. Usuwanie duplikatów wierszy na podstawie wartości w kolumnie:\n",
    "```python\n",
    "df = df.drop_duplicates('nazwa_kolumny', keep='first')\n",
    "```"
   ]
  },
  {
   "cell_type": "markdown",
   "metadata": {},
   "source": [
    "-------\n",
    "### Część I  - Wyznaczenie reguł\n",
    "#### Ładowanie i wizualizacja danych"
   ]
  },
  {
   "cell_type": "code",
   "execution_count": null,
   "metadata": {},
   "outputs": [],
   "source": [
    "# wyznaczamy ścieżkę do pliku z danymi\n",
    "data_dir = join(pardir, 'data')\n",
    "filepath = join(data_dir, 'dane_analiza_koszykowa.csv')"
   ]
  },
  {
   "cell_type": "markdown",
   "metadata": {},
   "source": [
    "### 1) todo:\n",
    "- Załaduj plik z danymi do tabeli DataFrame (ścieżka w zmiennej `filepath`)\n",
    "- Wyświetl kilka pierwszych wierszy tabeli"
   ]
  },
  {
   "cell_type": "code",
   "execution_count": null,
   "metadata": {},
   "outputs": [],
   "source": [
    "# todo: wczytaj dane do zmiennej df\n",
    "df = ...\n",
    "# todo: wyświetl kilka pierwszych wierszy tabeli"
   ]
  },
  {
   "cell_type": "code",
   "execution_count": null,
   "metadata": {},
   "outputs": [],
   "source": [
    "def show_countplot(df, variable_name, description=None):\n",
    "    \"\"\"Pokazuje top 10 najlepiej sprzedających się produktów/kategorii.\"\"\"\n",
    "    assert variable_name in df.columns, \"Kolumna nie zawiera się w tabeli, wybierz inną kolumnę.\"\n",
    "    sns.countplot(x=variable_name, data=df, order=df[variable_name].value_counts().iloc[:10].index)\n",
    "    plt.xticks(rotation=90)\n",
    "    if description:\n",
    "        plt.title(description)\n",
    "    plt.show()"
   ]
  },
  {
   "cell_type": "markdown",
   "metadata": {},
   "source": [
    "### 2) todo:\n",
    "- Używając funkcji ```show_countplot``` wyświetl najlepiej sprzedające się:\n",
    "    - produkty (kolumna`product_name`)\n",
    "    - podkategorie produktów (kolumna `product_subcategory`)\n",
    "    - kategorie produtów (kolumna `product_category`)"
   ]
  },
  {
   "cell_type": "code",
   "execution_count": null,
   "metadata": {},
   "outputs": [],
   "source": [
    "# todo: zapełnij tuple modelling_columns nazwami kolumn odpowiadających za poszczególne poziomy grupowania \n",
    "# produktów: (produkty, podkategorie, kategorie)\n",
    "modelling_columns = (...)\n",
    "for column_name in modelling_columns:\n",
    "    print(f'Najlepiej sprzedające się produkty na poziomie {column_name}:')\n",
    "    # todo: wyświetl wykres"
   ]
  },
  {
   "cell_type": "markdown",
   "metadata": {},
   "source": [
    "#### Wyznaczanie reguł asocjacyjnych\n",
    "Aby znaleźć grupy produktów czesto kupowanych razem oraz reguły asocjacyjne (np.: *jeśli kupię chleb to kupię też masło z pewnością 70%*) potrzebujemy specjalnie przygotowanej tabeli.\n",
    "\n",
    "Aby ją przygotować należy przekształcić dotychczasową tabelę przy pomocy funkcji ```pd.pivot_table```. Wyjściowa macierz będzie miałą poszczególne paragony (koszyki) jako indeksy (oś Y), poszczególne produkty jako kolumny (oś X), a jej wartości będą reprezentować liczbę kolejnych rodzajów produktów w kolejnych koszykach.\n",
    "\n",
    "Przykładowa tabela wejściowa:\n",
    "\n",
    "| Paragon   | Produkt   | Liczba |\n",
    "|-----------|-----------|--------|\n",
    "| Paragon_1 | Produkt_1 | 1      |\n",
    "| Paragon_2 | Produkt_2 | 2      |\n",
    "| Paragon_2 | Produkt_3 | 1      |\n",
    "| Paragon_3 | Produkt_1 | 2      |\n",
    "| Paragon_3 | Produkt_2 | 5      |\n",
    "\n",
    "Po wywołaniu na niej funkcji\n",
    "```python\n",
    "pd.pivot_table(tabela, values='Liczba', index='Paragon', columns='Produkt', aggfunc=np.sum)\n",
    "```\n",
    "będzie wyglądać następująco:\n",
    "\n",
    "|          | Produkt_1 | Produkt_2 | Produkt_3 |\n",
    "|-----------|-----------|-----------|-----------|\n",
    "| Paragon_1 | 1         | Nan       | Nan       |\n",
    "| Paragon_2 | NaN       | 2         | 1         |\n",
    "| Paragon_3 | 2         | 5         | Nan       |"
   ]
  },
  {
   "cell_type": "markdown",
   "metadata": {},
   "source": [
    "### 3) todo \n",
    "- Przekształć tabelę przy pomocy ```pd.pivot_table``` na podstawie powyższego przykładu:\n",
    "    - chcemy zliczyć występowania produktów (`quantity`)\n",
    "    - w poszczególnych koszykach (`receipt_id`)\n",
    "    - pogrupowane według rodzajów produktów (kolumna odpowiadająca wybranemu poziomowi modelowania, zmienna `modelling_variable`)\n",
    "- W przekształconej tabeli zapełnij pola ```NaN``` zerami"
   ]
  },
  {
   "cell_type": "code",
   "execution_count": null,
   "metadata": {},
   "outputs": [],
   "source": [
    "# wypiszmy kolumny, które odpowiadają kolejnym poziomom modelowania\n",
    "print(f'Istnieją {len(modelling_columns)} kolumny odpowiadające kolejnym poziomom modelowania:')\n",
    "for colname in modelling_columns:\n",
    "    print(f'- {colname}')"
   ]
  },
  {
   "cell_type": "code",
   "execution_count": null,
   "metadata": {},
   "outputs": [],
   "source": [
    "# todo: wybierz zmienną określającą poziom modelowania (jedna z wylistowanych powyżej)\n",
    "modelling_variable = ...\n",
    "# sprawdźmy czy dana zmienna istnieje w tabeli \n",
    "assert modelling_variable in df.columns, \"Kolumna nie zawiera się w tabeli, wybierz inną kolumnę.\""
   ]
  },
  {
   "cell_type": "code",
   "execution_count": null,
   "metadata": {},
   "outputs": [],
   "source": [
    "# todo: obróć tabelę przy pomocy pd.pivot_table\n",
    "# hint: jako wartość parametru columns ustaw zmienną modelling_variable\n",
    "basket = ...\n",
    "# todo: wyświetl kilka pierwszych wierszy z tabeli basket\n",
    "basket.head()"
   ]
  },
  {
   "cell_type": "code",
   "execution_count": null,
   "metadata": {},
   "outputs": [],
   "source": [
    "# todo: zapełnij pola NaN tabeli basket zerami\n",
    "basket = ...\n",
    "# zmieniamy wartości w tabeli zliczeniowej na binarne:\n",
    "#  - 1 oznacza, że produkt występował w danym koszyku\n",
    "#  - 0 oznacza,że nie występował\n",
    "basket_sets = basket.applymap(lambda x: 1 if x >= 1 else 0)\n",
    "basket_sets.head()"
   ]
  },
  {
   "cell_type": "code",
   "execution_count": null,
   "metadata": {},
   "outputs": [],
   "source": [
    "# wyznaczamy często występujące grupy produktów (występujące w przynamniej 1% koszyków)\n",
    "frequent_itemsets = apriori(basket_sets, min_support=0.01, use_colnames=True)\n",
    "# na podstawie grup wyznaczamy reguły asocjacyjne\n",
    "rules = association_rules(frequent_itemsets, metric=\"lift\", min_threshold=1.0).rename(columns=apriori_dict)\n",
    "print('Tabela z regułami zawiera następujące kolumny:')\n",
    "for colname in rules.columns:\n",
    "    print(f'- {colname}')\n",
    "rules.head()"
   ]
  },
  {
   "cell_type": "code",
   "execution_count": null,
   "metadata": {},
   "outputs": [],
   "source": [
    "# todo: posortuj zbiór według pewności reguły\n",
    "rules = ...\n",
    "# todo: wyświetl kilka pierwszych reguł z tabeli rules"
   ]
  },
  {
   "cell_type": "markdown",
   "metadata": {},
   "source": [
    "### 4) todo:\n",
    "Wróć do punktu **3) todo** i sprawdź jakie reguły generowane są dla innych poziomów modelowania (kolumny: `product_name`, `product_subcategory`, `product_category`). Oceń przydatność biznesową reguł i wybierz kolumnę będącą \"*złotym środekiem*\", czyli kompromisem pomiędzy szczegółowością a pewnością.\n",
    "\n",
    "Po wyborze odpowiedniej zmiennej (odpowiadającej poziomowi modelowania) ponownie uruchom komórki od sekcji **3) todo**. W ten sposób zmienna `rules` zawierać będzie odpowiednie reugły."
   ]
  },
  {
   "cell_type": "markdown",
   "metadata": {},
   "source": [
    "----------\n",
    "### Część II  - Rekomendacja produktów\n",
    "Sprawdźmy jakie produkty można zarekomendować klientowi o identyfikatorze paragonu ```2```"
   ]
  },
  {
   "cell_type": "code",
   "execution_count": null,
   "metadata": {},
   "outputs": [],
   "source": [
    "# wybierzmy część tabeli odpowiadającej koszykowi o id 229822\n",
    "basket_id = 229822\n",
    "receipt = df[df['receipt_id'] == basket_id]\n",
    "# utwórzmy zbiór zawierający produkty z koszyka o id 2\n",
    "basket_items = set(receipt[modelling_variable].values)\n",
    "print(f'Koszyk o id: {basket_id} zawiera następujące produkty: {basket_items}')"
   ]
  },
  {
   "cell_type": "markdown",
   "metadata": {},
   "source": [
    "#### Filtrowanie reguł\n",
    "Nie wszystkie reguły, które wygenerowaliśmy przydadzą nam się w rekomendacji. Potrzebujemy reguł, które spełniają następujące warunki:\n",
    "1. zbiór *poprzedników* reguły posiada produkty wspólne ze zbiorem produktów koszyka\n",
    "2. zbiór *następników* reguły nie ma produktów wspólnych ze zbiorem produktów koszyka\n",
    "\n",
    "Aby odfiltrować nieprzydatne reguły potrzebujemy funkcji:\n",
    "1. wyznaczającej podobieństwo poszczególnych *poprzedników* reguł do zawartości koszyka,\n",
    "2. odfiltrowjącej reguły, których *następnicy* znajdują się w koszyku.\n",
    "\n",
    "Z racji, iż koszyk reprezentowany jest jako zbiór produktów, do obliczania podobieństwa użyjemy indeksu Jaccarda. Jest to miara podobieństwa zbiorów w zakresie [0, 1]:\n",
    "![alt text](../data/jaccard.PNG)\n",
    " źródło: https://en.wikipedia.org/wiki/Jaccard_index"
   ]
  },
  {
   "cell_type": "code",
   "execution_count": null,
   "metadata": {},
   "outputs": [],
   "source": [
    "# do spełnienia warunku 1. użyjemy funkcji obliczającej podobieństwa Jaccarda\n",
    "# umożliwi nam ona sortowanie reguł według podobieństwa ich poprzedników do koszyka\n",
    "def jaccard_similarity(x, y):\n",
    "    x, y = set(x), set(y)\n",
    "    return len(x.intersection(y)) / len(x.union(y))\n",
    "\n",
    "# do spełnienia warunku 2. użyjemy funkcji sprawdzającej wielkość części wspólnej\n",
    "# następników i koszyka\n",
    "def intersects_with_basket(x, y):\n",
    "    x = set(x['następnicy'])\n",
    "    return len(x.intersection(y)) == 0"
   ]
  },
  {
   "cell_type": "markdown",
   "metadata": {},
   "source": [
    "### 5) todo:\n",
    "- Dodaj do tabeli reguł ```rules``` nową kolumnę zawierającą wartość podobieństwa Jaccarda pomiędzy zbiorem produktów (zmienna ```basket_items```) w przykładowym koszyku, a poszczególnymi *poprzednikami* dla każdej z reguł.\n",
    "\n",
    "Aby dodać do tabeli nową kolumnę, która liczona jest na podstawie innej użyjemy kombinacji funkcji `apply` i `lambda`. Aby obliczyć podobieństwo nalezy:\n",
    "- użyć kolumny `poprzednicy` jako bazy do obliczeń\n",
    "- funkcji `jaccard_similarity` jako funkcji (zastępuje `moja_funkcja`)\n",
    "- jako argumentów funkcji `jaccard_similarity` użyć:\n",
    "    - wartości z kolumny `poprzednicy`\n",
    "    - zbioru elementów koszyka `basket_items`\n",
    "\n",
    "\n",
    "```python\n",
    "# przykład użycia apply + lambda\n",
    "rules['nowa_kolumna'] = rules['kolumna_X'].apply(lambda element_kolumny_X: moja_funkcja(element_kolumny_X))\n",
    "\n",
    "# przykład tworzący nową kolumnę z długością zbioru poprzednich\n",
    "rules['nowa_kolumna'] = rules['poprzednicy'].apply(lambda x: len(x))\n",
    "```"
   ]
  },
  {
   "cell_type": "code",
   "execution_count": null,
   "metadata": {},
   "outputs": [],
   "source": [
    "# todo: dodaj kolumnę zawierającą podobieństwo poprzedników reguły do koszyka\n",
    "rules['podobieństwo'] = ...\n",
    "# usuń reguły o następnikach występujących już w koszyku\n",
    "rules = rules[rules.apply(lambda x: intersects_with_basket(x, basket_items), axis=1)]"
   ]
  },
  {
   "cell_type": "markdown",
   "metadata": {},
   "source": [
    "### 6) todo:\n",
    "- Odfiltruj wiersze z  zerowym podobieństwem (```rules[reguła]``` czyli np. ```rules[rules['wybrana_kolumna'] > 5]```)\n",
    "- Posortuj wartości malejąco używając do tego kolumn odpowiadających:\n",
    "    1. podobieństwu Jaccarda *poprzedników* reguły do zawartości analizowanego koszyka \n",
    "    2. pewności reguły\n",
    "- Odrzuć wszystkie kolumny oprócz kolumn: ```następnicy``` i ```pewność```\n",
    "- Usuń duplikaty tak aby dla każdego następnika zachować regułę o najwyższej pewności\n"
   ]
  },
  {
   "cell_type": "code",
   "execution_count": null,
   "metadata": {},
   "outputs": [],
   "source": [
    "# todo: odfiltruj reguły o zerowym podobieństwie do koszyka\n",
    "recommendations = ...\n",
    "# todo: wyświetl kilka pierwszych wierszy tabeli"
   ]
  },
  {
   "cell_type": "code",
   "execution_count": null,
   "metadata": {},
   "outputs": [],
   "source": [
    "# todo: posortuj reguły malejąco według podobieństwa i pewności\n",
    "recommendations = ...\n",
    "# todo: wyświetl kilka pierwszych wierszy tabeli"
   ]
  },
  {
   "cell_type": "code",
   "execution_count": null,
   "metadata": {},
   "outputs": [],
   "source": [
    "# todo: odrzuć wszystkie kolumny oprócz następników, pewności i przyrostu\n",
    "columns_to_keep = [...]\n",
    "recommendations = recommendations[columns_to_keep]\n",
    "# todo: wyświetl kilka pierwszych wierszy tabeli\n",
    "recommendations.head()"
   ]
  },
  {
   "cell_type": "code",
   "execution_count": null,
   "metadata": {},
   "outputs": [],
   "source": [
    "# todo: usuń duplikaty zachowując reguły o największej pewności\n",
    "recommendations = ...\n",
    "# todo: wyświetl kilka pierwszych wierszy tabeli\n",
    "recommendations.head()"
   ]
  },
  {
   "cell_type": "code",
   "execution_count": null,
   "metadata": {},
   "outputs": [],
   "source": [
    "recommendations_display = pd.DataFrame()\n",
    "recommendations_display['Rekomendowane produkty'] = recommendations['następnicy'].apply(lambda x: ', '.join([x for x in iter(x)]))\n",
    "recommendations_display['Pewność rekomendacji (%)'] = recommendations['pewność'].apply(lambda x: str(round(100 * x, 2)) + '%')\n",
    "recommendations_display['Przyrost'] = recommendations['przyrost']\n",
    "print(f\"Wiedząc, że klient kupił {', '.join(list(basket_items))}\")\n",
    "recommendations_display.reset_index().drop(columns=['index']).head(10)"
   ]
  },
  {
   "cell_type": "markdown",
   "metadata": {},
   "source": [
    "### Rozwiązanie:\n",
    "\n",
    "1.\n",
    "```python\n",
    "# todo: wczytaj dane do zmiennej df\n",
    "df = pd.read_csv(filepath)\n",
    "# todo: wyświetl kilka pierwszych wierszy tabeli\n",
    "df.head()\n",
    "```\n",
    "\n",
    "2.\n",
    "```python\n",
    "modelling_columns = ('product_name', 'product_subcategory', 'product_category')\n",
    "for column_name in modelling_columns:\n",
    "    print(f'Najlepiej sprzedające się produkty na poziomie {column_name}:')\n",
    "    # todo: wyświetl wykres\n",
    "    show_countplot(df, column_name)\n",
    "```\n",
    "\n",
    "3.\n",
    "```python\n",
    "# todo: obróć tabelę przy pomocy pd.pivot_table\n",
    "basket = pd.pivot_table(df, values='quantity', index='receipt_id', columns=modelling_variable, aggfunc=np.sum)\n",
    "# todo: wyświetl kilka pierwszych wierszy z tabeli basket\n",
    "basket.head()\n",
    "\n",
    "# todo: zapełnij pola NaN tabeli basket zerami\n",
    "basket = basket.fillna(0)\n",
    "# zmieniamy wartości w tabeli zliczeniowej na binarne:\n",
    "#  - 1 oznacza, że produkt występował w danym koszyku\n",
    "#  - 0 oznacza,że nie występował\n",
    "basket_sets = basket.applymap(lambda x: 1 if x >= 1 else 0)\n",
    "basket_sets.head()\n",
    "\n",
    "# todo: posortuj zbiór według pewności reguły\n",
    "rules = rules.sort_values('pewność', ascending=False)\n",
    "# todo: wyświetl kilka pierwszych reguł z tabeli rules\n",
    "rules.head()\n",
    "\n",
    "```\n",
    "\n",
    "4.\n",
    "Pod sekcją **3) todo** należy przypisać do zmiennej `modelling_variable` jedną z trzech możliwych wartości:\n",
    "- ```python\n",
    "modelling_variable = 'product_name'\n",
    "```\n",
    "\n",
    "- ```python\n",
    "# ta zmienna zapewnia wspomniany \"złoty środek\"\n",
    "modelling_variable = 'product_subcategory'\n",
    "```\n",
    "\n",
    "- ```python\n",
    "modelling_variable = 'product_category'\n",
    "```\n",
    "\n",
    " Następnie należy uruchomić komórki z kodem aż do **5) todo**.\n",
    "\n",
    "\n",
    "5.\n",
    "```python\n",
    "rules['podobieństwo'] = rules['poprzednicy'].apply(lambda x: jaccard_similarity(x, basket_items))\n",
    "\n",
    "```\n",
    "6.\n",
    "```python\n",
    "# todo: odfiltruj reguły o zerowym podobieństwie do koszyka\n",
    "recommendations = rules[rules['podobieństwo'] > 0]\n",
    "# todo: wyświetl kilka pierwszych wierszy tabeli\n",
    "recommendations.head()\n",
    "\n",
    "# todo: posortuj reguły malejąco według podobieństwa i pewności\n",
    "recommendations = recommendations.sort_values(['podobieństwo', 'pewność'], ascending=False)\n",
    "# todo: wyświetl kilka pierwszych wierszy tabeli\n",
    "recommendations.head()\n",
    "\n",
    "# todo: odrzuć wszystkie kolumny oprócz następników, pewności i przyrostu\n",
    "columns_to_keep = ['następnicy', 'pewność', 'przyrost']\n",
    "recommendations = recommendations[columns_to_keep]\n",
    "# todo: wyświetl kilka pierwszych wierszy tabeli\n",
    "recommendations.head()\n",
    "\n",
    "# todo: usuń duplikaty zachowując reguły o największej pewności\n",
    "recommendations = recommendations.drop_duplicates('następnicy', keep='first')\n",
    "# todo: wyświetl kilka pierwszych wierszy tabeli\n",
    "recommendations.head()\n",
    "```\n"
   ]
  }
 ],
 "metadata": {
  "hide_input": false,
  "kernelspec": {
   "display_name": "Python 3",
   "language": "python",
   "name": "python3"
  },
  "language_info": {
   "codemirror_mode": {
    "name": "ipython",
    "version": 3
   },
   "file_extension": ".py",
   "mimetype": "text/x-python",
   "name": "python",
   "nbconvert_exporter": "python",
   "pygments_lexer": "ipython3",
   "version": "3.7.3"
  }
 },
 "nbformat": 4,
 "nbformat_minor": 2
}
